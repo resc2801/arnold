{
 "cells": [
  {
   "cell_type": "markdown",
   "metadata": {},
   "source": [
    "# Multivariate Function Interpolation"
   ]
  },
  {
   "cell_type": "code",
   "execution_count": null,
   "metadata": {},
   "outputs": [],
   "source": [
    "import tensorflow as tf\n",
    "import numpy as np\n",
    "from tqdm import tqdm\n",
    "\n",
    "import matplotlib.pyplot as plt\n",
    "%matplotlib inline  \n",
    "\n",
    "import plotly.graph_objects as go\n",
    "\n",
    "tfk = tf.keras\n",
    "tfkl = tfk.layers"
   ]
  },
  {
   "cell_type": "markdown",
   "metadata": {},
   "source": [
    "## Prepare datasets using a fractal-like function to interpolate"
   ]
  },
  {
   "cell_type": "code",
   "execution_count": null,
   "metadata": {},
   "outputs": [],
   "source": [
    "def fractal_function(x, y):\n",
    "    x = 2*x \n",
    "    y = 2*y\n",
    "    z = np.sin(10 * np.pi * x) * np.cos(10 * np.pi * y) + np.sin(np.pi * (x**2 + y**2))\n",
    "    z += np.abs(x - y) + (np.sin(5 * x * y) / (0.1 + np.abs(x + y)))\n",
    "    z *= np.exp(-0.1 * (x**2 + y**2))\n",
    "    \n",
    "    # Add noise to z\n",
    "    noise = np.random.normal(0, 0.1, z.shape)\n",
    "    z += noise\n",
    "    \n",
    "    return z"
   ]
  },
  {
   "cell_type": "markdown",
   "metadata": {},
   "source": [
    "Visualize our function on regular sub-mesh of $[-1, 1]^{2}$."
   ]
  },
  {
   "cell_type": "code",
   "execution_count": null,
   "metadata": {},
   "outputs": [],
   "source": [
    "X, Y = np.meshgrid(\n",
    "    np.linspace(-1, 1, 100), \n",
    "    np.linspace(-1, 1, 100)\n",
    ")\n",
    "Z = fractal_function(X, Y)\n",
    "\n",
    "fig = go.Figure(data=[\n",
    "    go.Surface(\n",
    "        z=Z, \n",
    "        x=X, \n",
    "        y=Y, \n",
    "    )\n",
    "])\n",
    "\n",
    "fig.update_traces(contours_z=dict(show=True, usecolormap=True, highlightcolor=\"limegreen\", project_z=True))\n",
    "\n",
    "fig.update_layout(\n",
    "    title='Original function', autosize=True,\n",
    "    width=512, \n",
    "    height=512,\n",
    ")\n",
    "\n",
    "fig.show()"
   ]
  },
  {
   "cell_type": "markdown",
   "metadata": {},
   "source": [
    "Generate a low-discrepancy training dataset using fast Halton sampling containing 22.500 samples."
   ]
  },
  {
   "cell_type": "code",
   "execution_count": null,
   "metadata": {},
   "outputs": [],
   "source": [
    "from skopt.space import Space\n",
    "from skopt.sampler import Halton\n",
    "\n",
    "\n",
    "n_samples = 150*150\n",
    "space = Space([(-1.0, 1.0), (-1.0, 1.0)])\n",
    "\n",
    "sampler = Halton()\n",
    "\n",
    "x_train = np.array(sampler.generate(space.dimensions, n_samples))\n",
    "y_train = fractal_function(x_train[:,0], x_train[:,1]).reshape((-1, 1))"
   ]
  },
  {
   "cell_type": "markdown",
   "metadata": {},
   "source": [
    "## Define models"
   ]
  },
  {
   "cell_type": "markdown",
   "metadata": {},
   "source": [
    "We define a simple MLP as our baseline and a number of KANs using polynomial bases."
   ]
  },
  {
   "cell_type": "code",
   "execution_count": null,
   "metadata": {},
   "outputs": [],
   "source": [
    "from arnold.layers.polynomial.orthogonal import (\n",
    "    AskeyWilson,\n",
    "    Chebyshev1st,\n",
    "    Gegenbauer, \n",
    ")\n",
    "\n",
    "from arnold.layers.wavelet import (\n",
    "    Bump, \n",
    "    Ricker, \n",
    "    Poisson\n",
    ")\n",
    "\n",
    "from arnold.layers.radial import (\n",
    "    GaussianRBF,\n",
    "    InverseMultiQuadricRBF\n",
    ")"
   ]
  },
  {
   "cell_type": "code",
   "execution_count": null,
   "metadata": {},
   "outputs": [],
   "source": [
    "all_models = {\n",
    "    'mlp': tfk.Sequential([\n",
    "        tfkl.Dense(1024, activation=\"relu\"),\n",
    "        tfkl.Dense(512, activation=\"relu\"),\n",
    "        tfkl.Dense(1, activation=\"linear\")\n",
    "        ],\n",
    "        name='mlp'\n",
    "    ),\n",
    "    'askey_wilson': tfk.Sequential([\n",
    "            AskeyWilson(input_dim=2, output_dim=8, degree=4),\n",
    "            tfkl.LayerNormalization(),\n",
    "            AskeyWilson(input_dim=8, output_dim=16, degree=6),\n",
    "            tfkl.LayerNormalization(),\n",
    "            AskeyWilson(input_dim=16, output_dim=32, degree=4),\n",
    "            tfkl.LayerNormalization(),\n",
    "            AskeyWilson(input_dim=32, output_dim=1, degree=3),\n",
    "        ],\n",
    "        name=\"askey_wilson_kan\" \n",
    "    ),\n",
    "    'chebyshev_1st': tfk.Sequential([\n",
    "            Chebyshev1st(input_dim=2, output_dim=8, degree=4),\n",
    "            tfkl.LayerNormalization(),\n",
    "            Chebyshev1st(input_dim=8, output_dim=16, degree=6),\n",
    "            tfkl.LayerNormalization(),\n",
    "            Chebyshev1st(input_dim=16, output_dim=32, degree=4),\n",
    "            tfkl.LayerNormalization(),\n",
    "            Chebyshev1st(input_dim=32, output_dim=1, degree=3),\n",
    "        ],\n",
    "        name=\"chebyshev_1st_kan\" \n",
    "    ),\n",
    "    'gegenbauer': tfk.Sequential([\n",
    "            Gegenbauer(input_dim=2, output_dim=8, degree=4),\n",
    "            tfkl.LayerNormalization(),\n",
    "            Gegenbauer(input_dim=8, output_dim=16, degree=6),\n",
    "            tfkl.LayerNormalization(),\n",
    "            Gegenbauer(input_dim=16, output_dim=32, degree=4),\n",
    "            tfkl.LayerNormalization(),\n",
    "            Gegenbauer(input_dim=32, output_dim=1, degree=3),\n",
    "        ],\n",
    "        name=\"gegenbauer_kan\" \n",
    "    ),\n",
    "    'bump': tfk.Sequential([\n",
    "            Bump(input_dim=2, output_dim=8),\n",
    "            tfkl.LayerNormalization(),\n",
    "            Bump(input_dim=8, output_dim=16),\n",
    "            tfkl.LayerNormalization(),\n",
    "            Bump(input_dim=16, output_dim=32),\n",
    "            tfkl.LayerNormalization(),\n",
    "            Bump(input_dim=32, output_dim=1),\n",
    "        ],\n",
    "        name='bump_kan'\n",
    "    ),\n",
    "    'ricker': tfk.Sequential([\n",
    "            Ricker(input_dim=2, output_dim=8),\n",
    "            tfkl.LayerNormalization(),\n",
    "            Ricker(input_dim=8, output_dim=16),\n",
    "            tfkl.LayerNormalization(),\n",
    "            Ricker(input_dim=16, output_dim=32),\n",
    "            tfkl.LayerNormalization(),\n",
    "            Ricker(input_dim=32, output_dim=1),\n",
    "        ],\n",
    "        name='ricker_kan'\n",
    "    ),\n",
    "    'poisson': tfk.Sequential([\n",
    "            Poisson(input_dim=2, output_dim=8),\n",
    "            tfkl.LayerNormalization(),\n",
    "            Poisson(input_dim=8, output_dim=16),\n",
    "            tfkl.LayerNormalization(),\n",
    "            Poisson(input_dim=16, output_dim=32),\n",
    "            tfkl.LayerNormalization(),\n",
    "            Poisson(input_dim=32, output_dim=1),\n",
    "        ],\n",
    "        name='poisson_kan'\n",
    "    ),\n",
    "    'gaussian_rbf': tfk.Sequential([\n",
    "            GaussianRBF(input_dim=2, output_dim=8),\n",
    "            tfkl.LayerNormalization(),\n",
    "            GaussianRBF(input_dim=8, output_dim=16),\n",
    "            tfkl.LayerNormalization(),\n",
    "            GaussianRBF(input_dim=16, output_dim=32),\n",
    "            tfkl.LayerNormalization(),\n",
    "            GaussianRBF(input_dim=32, output_dim=1),\n",
    "        ],\n",
    "        name='gaussian_rbf_kan'\n",
    "    ),\n",
    "    'inverse_multiquadric_rbf': tfk.Sequential([\n",
    "            InverseMultiQuadricRBF(input_dim=2, output_dim=8),\n",
    "            tfkl.LayerNormalization(),\n",
    "            InverseMultiQuadricRBF(input_dim=8, output_dim=16),\n",
    "            tfkl.LayerNormalization(),\n",
    "            InverseMultiQuadricRBF(input_dim=16, output_dim=32),\n",
    "            tfkl.LayerNormalization(),\n",
    "            InverseMultiQuadricRBF(input_dim=32, output_dim=1),\n",
    "        ],\n",
    "        name='inverse_multiquadric_rbf_kan'\n",
    "    ),\n",
    "}"
   ]
  },
  {
   "cell_type": "markdown",
   "metadata": {},
   "source": [
    "## Train all models"
   ]
  },
  {
   "cell_type": "markdown",
   "metadata": {},
   "source": [
    "Build and compile all models. "
   ]
  },
  {
   "cell_type": "code",
   "execution_count": null,
   "metadata": {},
   "outputs": [],
   "source": [
    "for name, model in tqdm(all_models.items()):\n",
    "    model.build((None, 2))\n",
    "    model.compile(\n",
    "        optimizer=tf.keras.optimizers.legacy.Adam(),\n",
    "        loss='huber',\n",
    "        metrics=['mse']\n",
    "    )\n",
    "\n",
    "print('Trainable parameter', {name: np.sum([np.prod(p.shape) for p in model.trainable_weights]) for (name, model) in all_models.items()})\n",
    "print('Non-trainable parameter', {name: np.sum([np.prod(p.shape) for p in model.non_trainable_weights]) for (name, model) in all_models.items()})"
   ]
  },
  {
   "cell_type": "code",
   "execution_count": null,
   "metadata": {},
   "outputs": [],
   "source": [
    "EPOCHS = 100\n",
    "BATCH_SIZE = 512"
   ]
  },
  {
   "cell_type": "markdown",
   "metadata": {},
   "source": [
    "Train all models. On a Apple M1 Max this will take ~3 minutes."
   ]
  },
  {
   "cell_type": "code",
   "execution_count": null,
   "metadata": {},
   "outputs": [],
   "source": [
    "model_train_histories = {\n",
    "    name: model.fit(\n",
    "        x_train,\n",
    "        y_train,\n",
    "        epochs=EPOCHS, \n",
    "        batch_size=BATCH_SIZE,\n",
    "        shuffle=True,\n",
    "        verbose=0\n",
    "    ) for (name, model) in all_models.items()\n",
    "}"
   ]
  },
  {
   "cell_type": "markdown",
   "metadata": {},
   "source": [
    "Plot all loss & mse curves."
   ]
  },
  {
   "cell_type": "code",
   "execution_count": null,
   "metadata": {},
   "outputs": [],
   "source": [
    "import pandas as pd\n",
    "\n",
    "for name, hist in model_train_histories.items():\n",
    "    pd.DataFrame(hist.history).plot(figsize=(8,5), title=name)\n",
    "    plt.show()"
   ]
  },
  {
   "cell_type": "markdown",
   "metadata": {},
   "source": [
    "## Visualize all interpolants on a test dataset."
   ]
  },
  {
   "cell_type": "code",
   "execution_count": null,
   "metadata": {},
   "outputs": [],
   "source": [
    "X_test, Y_test = np.meshgrid(\n",
    "    np.linspace(-1, 1, 400), \n",
    "    np.linspace(-1, 1, 400)\n",
    ")\n",
    "\n",
    "x_test = np.stack([X_test.ravel(), Y_test.ravel()], axis=-1)\n",
    "y_true = fractal_function(X_test, Y_test)"
   ]
  },
  {
   "cell_type": "code",
   "execution_count": null,
   "metadata": {},
   "outputs": [],
   "source": [
    "all_predictions = { \n",
    "    name: model.predict(x_test).reshape((400,400)) for (name, model) in tqdm(all_models.items())\n",
    "}"
   ]
  },
  {
   "cell_type": "markdown",
   "metadata": {},
   "source": [
    "Visualize all interpolations."
   ]
  },
  {
   "cell_type": "code",
   "execution_count": null,
   "metadata": {},
   "outputs": [],
   "source": [
    "import plotly.graph_objects as go\n",
    "from plotly.subplots import make_subplots\n",
    "\n",
    "fig = make_subplots(\n",
    "    rows=2, \n",
    "    cols=int((len(all_predictions) + 1)/2), \n",
    "    start_cell=\"top-left\", \n",
    "    subplot_titles=['original', ] + list(all_predictions.keys()),\n",
    "    specs=[[{\"type\": \"surface\"}, {\"type\": \"surface\"}, {\"type\": \"surface\"}, {\"type\": \"surface\"}, {\"type\": \"surface\"}], [{\"type\": \"surface\"}, {\"type\": \"surface\"}, {\"type\": \"surface\"}, {\"type\": \"surface\"}, {\"type\": \"surface\"},]]\n",
    ")\n",
    "\n",
    "fig.add_trace(\n",
    "    go.Surface(\n",
    "        z=Z, \n",
    "        y=X, \n",
    "        x=Y, \n",
    "    ),\n",
    "    row=1, col=1\n",
    ")\n",
    "\n",
    "for i, (name, y) in enumerate(all_predictions.items()):\n",
    "    fig.add_trace(\n",
    "        go.Surface(\n",
    "            z=y, \n",
    "            x=X_test, \n",
    "            y=Y_test, \n",
    "        ),\n",
    "        row=1 + int(i / 5) if i < 4 else max(i/5, 2), \n",
    "        col=i+2 if i<4 else 1+(1 + i%5)%5\n",
    "    )\n",
    "\n",
    "fig.update_traces(contours_z=dict(show=True, usecolormap=True, highlightcolor=\"limegreen\", project_z=True))\n",
    "fig.update_layout(scene=dict(zaxis=dict(dtick=1, type='linear')))\n",
    "\n",
    "fig.update_layout(\n",
    "    autosize=True,\n",
    "    width=2048, \n",
    "    height=1024,\n",
    ")"
   ]
  },
  {
   "cell_type": "code",
   "execution_count": null,
   "metadata": {},
   "outputs": [],
   "source": [
    "all_evaluations = { \n",
    "    name: model.evaluate(x_test) for (name, model) in tqdm(all_models.items())\n",
    "}"
   ]
  },
  {
   "cell_type": "code",
   "execution_count": null,
   "metadata": {},
   "outputs": [],
   "source": [
    "{ name: np.min(model_train_histories[name].history['mse']) for name in all_models.keys() }"
   ]
  },
  {
   "cell_type": "code",
   "execution_count": null,
   "metadata": {},
   "outputs": [],
   "source": []
  }
 ],
 "metadata": {
  "kernelspec": {
   "display_name": "Python 3",
   "language": "python",
   "name": "python3"
  },
  "language_info": {
   "codemirror_mode": {
    "name": "ipython",
    "version": 3
   },
   "file_extension": ".py",
   "mimetype": "text/x-python",
   "name": "python",
   "nbconvert_exporter": "python",
   "pygments_lexer": "ipython3",
   "version": "3.11.0"
  },
  "orig_nbformat": 4
 },
 "nbformat": 4,
 "nbformat_minor": 2
}
